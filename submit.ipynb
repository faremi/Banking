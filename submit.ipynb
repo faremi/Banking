{
  "nbformat": 4,
  "nbformat_minor": 0,
  "metadata": {
    "colab": {
      "name": "Untitled1.ipynb",
      "provenance": [],
      "collapsed_sections": [],
      "authorship_tag": "ABX9TyMXpStX47KkbYYGKUwUrNC0",
      "include_colab_link": true
    },
    "kernelspec": {
      "name": "python3",
      "display_name": "Python 3"
    },
    "accelerator": "GPU"
  },
  "cells": [
    {
      "cell_type": "markdown",
      "metadata": {
        "id": "view-in-github",
        "colab_type": "text"
      },
      "source": [
        "<a href=\"https://colab.research.google.com/github/faremi/Banking/blob/master/submit.ipynb\" target=\"_parent\"><img src=\"https://colab.research.google.com/assets/colab-badge.svg\" alt=\"Open In Colab\"/></a>"
      ]
    },
    {
      "cell_type": "code",
      "metadata": {
        "id": "xuVSPynfc5CS",
        "colab_type": "code",
        "colab": {
          "base_uri": "https://localhost:8080/",
          "height": 367
        },
        "outputId": "a407b447-1d6b-44ab-e9f9-bcfab6f07d6f"
      },
      "source": [
        "!pip install transformers\n",
        "import numpy as np # linear algebra\n",
        "import pandas as pd # data processing, CSV file I/O (e.g. pd.read_csv)\n",
        "from pathlib import Path \n",
        "\n",
        "import os\n",
        "\n",
        "import torch\n",
        "import torch.optim as optim\n",
        "\n",
        "import random \n",
        "\n",
        "# fastai\n",
        "from fastai import *\n",
        "from fastai.text import *\n",
        "from fastai.callbacks import *\n",
        "\n",
        "# transformers\n",
        "from transformers import PreTrainedModel, PreTrainedTokenizer, PretrainedConfig\n",
        "\n",
        "from transformers import BertForSequenceClassification, BertTokenizer, BertConfig\n",
        "from transformers import RobertaForSequenceClassification, RobertaTokenizer, RobertaConfig\n",
        "from transformers import XLNetForSequenceClassification, XLNetTokenizer, XLNetConfig\n",
        "from transformers import XLMForSequenceClassification, XLMTokenizer, XLMConfig\n",
        "from transformers import DistilBertForSequenceClassification, DistilBertTokenizer, DistilBertConfig"
      ],
      "execution_count": 1,
      "outputs": [
        {
          "output_type": "stream",
          "text": [
            "Requirement already satisfied: transformers in /usr/local/lib/python3.6/dist-packages (2.11.0)\n",
            "Requirement already satisfied: filelock in /usr/local/lib/python3.6/dist-packages (from transformers) (3.0.12)\n",
            "Requirement already satisfied: tokenizers==0.7.0 in /usr/local/lib/python3.6/dist-packages (from transformers) (0.7.0)\n",
            "Requirement already satisfied: sacremoses in /usr/local/lib/python3.6/dist-packages (from transformers) (0.0.43)\n",
            "Requirement already satisfied: dataclasses; python_version < \"3.7\" in /usr/local/lib/python3.6/dist-packages (from transformers) (0.7)\n",
            "Requirement already satisfied: regex!=2019.12.17 in /usr/local/lib/python3.6/dist-packages (from transformers) (2019.12.20)\n",
            "Requirement already satisfied: tqdm>=4.27 in /usr/local/lib/python3.6/dist-packages (from transformers) (4.41.1)\n",
            "Requirement already satisfied: packaging in /usr/local/lib/python3.6/dist-packages (from transformers) (20.4)\n",
            "Requirement already satisfied: sentencepiece in /usr/local/lib/python3.6/dist-packages (from transformers) (0.1.91)\n",
            "Requirement already satisfied: numpy in /usr/local/lib/python3.6/dist-packages (from transformers) (1.18.5)\n",
            "Requirement already satisfied: requests in /usr/local/lib/python3.6/dist-packages (from transformers) (2.23.0)\n",
            "Requirement already satisfied: click in /usr/local/lib/python3.6/dist-packages (from sacremoses->transformers) (7.1.2)\n",
            "Requirement already satisfied: joblib in /usr/local/lib/python3.6/dist-packages (from sacremoses->transformers) (0.15.1)\n",
            "Requirement already satisfied: six in /usr/local/lib/python3.6/dist-packages (from sacremoses->transformers) (1.12.0)\n",
            "Requirement already satisfied: pyparsing>=2.0.2 in /usr/local/lib/python3.6/dist-packages (from packaging->transformers) (2.4.7)\n",
            "Requirement already satisfied: urllib3!=1.25.0,!=1.25.1,<1.26,>=1.21.1 in /usr/local/lib/python3.6/dist-packages (from requests->transformers) (1.24.3)\n",
            "Requirement already satisfied: idna<3,>=2.5 in /usr/local/lib/python3.6/dist-packages (from requests->transformers) (2.9)\n",
            "Requirement already satisfied: certifi>=2017.4.17 in /usr/local/lib/python3.6/dist-packages (from requests->transformers) (2020.6.20)\n",
            "Requirement already satisfied: chardet<4,>=3.0.2 in /usr/local/lib/python3.6/dist-packages (from requests->transformers) (3.0.4)\n"
          ],
          "name": "stdout"
        }
      ]
    },
    {
      "cell_type": "code",
      "metadata": {
        "id": "Msq66OvNdgnJ",
        "colab_type": "code",
        "colab": {
          "base_uri": "https://localhost:8080/",
          "height": 52
        },
        "outputId": "5e0d5285-a6a7-489e-c0ea-abfb5dc78245"
      },
      "source": [
        "import fastai\n",
        "import transformers\n",
        "print('fastai version :', fastai.__version__)\n",
        "print('transformers version :', transformers.__version__)\n"
      ],
      "execution_count": 2,
      "outputs": [
        {
          "output_type": "stream",
          "text": [
            "fastai version : 1.0.61\n",
            "transformers version : 2.11.0\n"
          ],
          "name": "stdout"
        }
      ]
    },
    {
      "cell_type": "code",
      "metadata": {
        "id": "KNWyb9isdKmN",
        "colab_type": "code",
        "colab": {}
      },
      "source": [
        "train_set = pd.read_csv(\"/content/drive/My Drive/Zindi/Train.csv\")\n",
        "test_set = pd.read_csv(\"/content/drive/My Drive/Zindi/Test.csv\")"
      ],
      "execution_count": 3,
      "outputs": []
    },
    {
      "cell_type": "code",
      "metadata": {
        "id": "Z4EJe5-oeA6T",
        "colab_type": "code",
        "colab": {}
      },
      "source": [
        "from transformers import BertForSequenceClassification, BertTokenizer, BertConfig\n",
        "from transformers import RobertaForSequenceClassification, RobertaTokenizer, RobertaConfig\n",
        "from transformers import XLNetForSequenceClassification, XLNetTokenizer, XLNetConfig\n",
        "from transformers import XLMForSequenceClassification, XLMTokenizer, XLMConfig\n",
        "from transformers import DistilBertForSequenceClassification, DistilBertTokenizer, DistilBertConfig\n",
        "\n",
        "MODEL_CLASSES = {\n",
        "    'bert': (BertForSequenceClassification, BertTokenizer, BertConfig),\n",
        "    'xlnet': (XLNetForSequenceClassification, XLNetTokenizer, XLNetConfig),\n",
        "    'xlm': (XLMForSequenceClassification, XLMTokenizer, XLMConfig),\n",
        "    'roberta': (RobertaForSequenceClassification, RobertaTokenizer, RobertaConfig),\n",
        "    'distilbert': (DistilBertForSequenceClassification, DistilBertTokenizer, DistilBertConfig)}\n",
        "    \n",
        "model_type = 'roberta'\n",
        "\n",
        "model_class, tokenizer_class, config_class = MODEL_CLASSES[model_type]"
      ],
      "execution_count": 4,
      "outputs": []
    },
    {
      "cell_type": "code",
      "metadata": {
        "id": "R0g2krG0eUWY",
        "colab_type": "code",
        "colab": {}
      },
      "source": [
        "def to_sentiment(rating):\n",
        "  if rating == \"Depression\":\n",
        "    return 0\n",
        "  elif rating == \"Drugs\":\n",
        "    return 1\n",
        "  elif rating == \"Suicide\":\n",
        "    return 2\n",
        "  elif rating == \"Alcohol\":\n",
        "    return 3\n",
        "  else: \n",
        "    return 5"
      ],
      "execution_count": 5,
      "outputs": []
    },
    {
      "cell_type": "code",
      "metadata": {
        "id": "TOt-aC2Ve2K-",
        "colab_type": "code",
        "colab": {}
      },
      "source": [
        "train_set['sentiment'] = train_set.label.apply(to_sentiment)\n",
        "class_names = ['Depression', 'Drugs', 'Suicide','Alcohol']"
      ],
      "execution_count": 6,
      "outputs": []
    },
    {
      "cell_type": "code",
      "metadata": {
        "id": "FAEBUlpiuM5r",
        "colab_type": "code",
        "colab": {}
      },
      "source": [
        "def clean_text(text):\n",
        "    '''Make text lowercase, remove text in square brackets,remove links,remove punctuation\n",
        "    and remove words containing numbers.'''\n",
        "    text = str(text).lower()\n",
        "    text = re.sub('\\[.*?\\]', '', text)\n",
        "    text = re.sub('https?://\\S+|www\\.\\S+', '', text)\n",
        "    text = re.sub('<.*?>+', '', text)\n",
        "    text = re.sub('[%s]' % re.escape(string.punctuation), '', text)\n",
        "    text = re.sub('\\n', '', text)\n",
        "    text = re.sub('\\w*\\d\\w*', '', text)\n",
        "    return text"
      ],
      "execution_count": 7,
      "outputs": []
    },
    {
      "cell_type": "code",
      "metadata": {
        "id": "M9_oVfjNuSPz",
        "colab_type": "code",
        "colab": {
          "base_uri": "https://localhost:8080/",
          "height": 52
        },
        "outputId": "9adc4780-1812-4a1f-8751-46b909d09c81"
      },
      "source": [
        "import string\n",
        "import nltk\n",
        "train_set['text'] = train_set['text'].apply(lambda x:clean_text(x))\n",
        "from textblob import TextBlob\n",
        "train_set['text'].apply(lambda x: str(TextBlob(x).correct()))\n",
        "from textblob import Word\n",
        "nltk.download('wordnet')\n",
        "train_set['text'] = train_set['text'].apply(lambda x: \" \".join([Word(word).\n",
        "lemmatize() for word in x.split()]))"
      ],
      "execution_count": 8,
      "outputs": [
        {
          "output_type": "stream",
          "text": [
            "[nltk_data] Downloading package wordnet to /root/nltk_data...\n",
            "[nltk_data]   Package wordnet is already up-to-date!\n"
          ],
          "name": "stdout"
        }
      ]
    },
    {
      "cell_type": "code",
      "metadata": {
        "id": "DB_c3XIBwgoS",
        "colab_type": "code",
        "colab": {
          "base_uri": "https://localhost:8080/",
          "height": 206
        },
        "outputId": "13335168-1025-4d38-f8df-1e11228db158"
      },
      "source": [
        "train_set.head()"
      ],
      "execution_count": 9,
      "outputs": [
        {
          "output_type": "execute_result",
          "data": {
            "text/html": [
              "<div>\n",
              "<style scoped>\n",
              "    .dataframe tbody tr th:only-of-type {\n",
              "        vertical-align: middle;\n",
              "    }\n",
              "\n",
              "    .dataframe tbody tr th {\n",
              "        vertical-align: top;\n",
              "    }\n",
              "\n",
              "    .dataframe thead th {\n",
              "        text-align: right;\n",
              "    }\n",
              "</style>\n",
              "<table border=\"1\" class=\"dataframe\">\n",
              "  <thead>\n",
              "    <tr style=\"text-align: right;\">\n",
              "      <th></th>\n",
              "      <th>ID</th>\n",
              "      <th>text</th>\n",
              "      <th>label</th>\n",
              "      <th>sentiment</th>\n",
              "    </tr>\n",
              "  </thead>\n",
              "  <tbody>\n",
              "    <tr>\n",
              "      <th>0</th>\n",
              "      <td>SUAVK39Z</td>\n",
              "      <td>i feel that it wa better i dieam happy</td>\n",
              "      <td>Depression</td>\n",
              "      <td>0</td>\n",
              "    </tr>\n",
              "    <tr>\n",
              "      <th>1</th>\n",
              "      <td>9JDAGUV3</td>\n",
              "      <td>why do i get hallucination</td>\n",
              "      <td>Drugs</td>\n",
              "      <td>1</td>\n",
              "    </tr>\n",
              "    <tr>\n",
              "      <th>2</th>\n",
              "      <td>419WR1LQ</td>\n",
              "      <td>i am stresseed due to lack of financial suppor...</td>\n",
              "      <td>Depression</td>\n",
              "      <td>0</td>\n",
              "    </tr>\n",
              "    <tr>\n",
              "      <th>3</th>\n",
              "      <td>6UY7DX6Q</td>\n",
              "      <td>why is life important</td>\n",
              "      <td>Suicide</td>\n",
              "      <td>2</td>\n",
              "    </tr>\n",
              "    <tr>\n",
              "      <th>4</th>\n",
              "      <td>FYC0FTFB</td>\n",
              "      <td>how could i be helped to go through the depres...</td>\n",
              "      <td>Depression</td>\n",
              "      <td>0</td>\n",
              "    </tr>\n",
              "  </tbody>\n",
              "</table>\n",
              "</div>"
            ],
            "text/plain": [
              "         ID  ... sentiment\n",
              "0  SUAVK39Z  ...         0\n",
              "1  9JDAGUV3  ...         1\n",
              "2  419WR1LQ  ...         0\n",
              "3  6UY7DX6Q  ...         2\n",
              "4  FYC0FTFB  ...         0\n",
              "\n",
              "[5 rows x 4 columns]"
            ]
          },
          "metadata": {
            "tags": []
          },
          "execution_count": 9
        }
      ]
    },
    {
      "cell_type": "code",
      "metadata": {
        "id": "nMCliDive4YB",
        "colab_type": "code",
        "colab": {}
      },
      "source": [
        "seed = 42\n",
        "use_fp16 = False\n",
        "bs = 16\n",
        "\n",
        "model_type = 'roberta'\n",
        "pretrained_model_name = 'distilroberta-base'"
      ],
      "execution_count": 10,
      "outputs": []
    },
    {
      "cell_type": "code",
      "metadata": {
        "id": "2lPWc-XufIvq",
        "colab_type": "code",
        "colab": {}
      },
      "source": [
        "model_class, tokenizer_class, config_class = MODEL_CLASSES[model_type]"
      ],
      "execution_count": 11,
      "outputs": []
    },
    {
      "cell_type": "code",
      "metadata": {
        "id": "YFe8kyvjgq0B",
        "colab_type": "code",
        "colab": {}
      },
      "source": [
        "def seed_all(seed_value):\n",
        "    random.seed(seed_value) # Python\n",
        "    np.random.seed(seed_value) # cpu vars\n",
        "    torch.manual_seed(seed_value) # cpu  vars\n",
        "    \n",
        "    if torch.cuda.is_available(): \n",
        "        torch.cuda.manual_seed(seed_value)\n",
        "        torch.cuda.manual_seed_all(seed_value) # gpu vars\n",
        "        torch.backends.cudnn.deterministic = True  #needed\n",
        "        torch.backends.cudnn.benchmark = False"
      ],
      "execution_count": 12,
      "outputs": []
    },
    {
      "cell_type": "code",
      "metadata": {
        "id": "WbIKODg1hWOk",
        "colab_type": "code",
        "colab": {}
      },
      "source": [
        "seed_all(seed)\n"
      ],
      "execution_count": 13,
      "outputs": []
    },
    {
      "cell_type": "code",
      "metadata": {
        "id": "1Rz3qXqghiO2",
        "colab_type": "code",
        "colab": {}
      },
      "source": [
        "class TransformersBaseTokenizer(BaseTokenizer):\n",
        "    \"\"\"Wrapper around PreTrainedTokenizer to be compatible with fast.ai\"\"\"\n",
        "    def __init__(self, pretrained_tokenizer: PreTrainedTokenizer, model_type = 'bert', **kwargs):\n",
        "        self._pretrained_tokenizer = pretrained_tokenizer\n",
        "        self.max_seq_len = pretrained_tokenizer.max_len\n",
        "        self.model_type = model_type\n",
        "\n",
        "    def __call__(self, *args, **kwargs): \n",
        "        return self\n",
        "\n",
        "    def tokenizer(self, t:str) -> List[str]:\n",
        "        \"\"\"Limits the maximum sequence length and add the spesial tokens\"\"\"\n",
        "        CLS = self._pretrained_tokenizer.cls_token\n",
        "        SEP = self._pretrained_tokenizer.sep_token\n",
        "        if self.model_type in ['roberta']:\n",
        "            tokens = self._pretrained_tokenizer.tokenize(t, add_prefix_space=True)[:self.max_seq_len - 2]\n",
        "            tokens = [CLS] + tokens + [SEP]\n",
        "        else:\n",
        "            tokens = self._pretrained_tokenizer.tokenize(t)[:self.max_seq_len - 2]\n",
        "            if self.model_type in ['xlnet']:\n",
        "                tokens = tokens + [SEP] +  [CLS]\n",
        "            else:\n",
        "                tokens = [CLS] + tokens + [SEP]\n",
        "        return tokens"
      ],
      "execution_count": 14,
      "outputs": []
    },
    {
      "cell_type": "code",
      "metadata": {
        "id": "ityq1t_EgzjT",
        "colab_type": "code",
        "colab": {}
      },
      "source": [
        "transformer_tokenizer = tokenizer_class.from_pretrained(pretrained_model_name)\n",
        "transformer_base_tokenizer = TransformersBaseTokenizer(pretrained_tokenizer = transformer_tokenizer, model_type = model_type)\n",
        "fastai_tokenizer = Tokenizer(tok_func = transformer_base_tokenizer, pre_rules=[], post_rules=[])"
      ],
      "execution_count": 15,
      "outputs": []
    },
    {
      "cell_type": "code",
      "metadata": {
        "id": "FBF1aSMjhErP",
        "colab_type": "code",
        "colab": {}
      },
      "source": [
        "class TransformersVocab(Vocab):\n",
        "    def __init__(self, tokenizer: PreTrainedTokenizer):\n",
        "        super(TransformersVocab, self).__init__(itos = [])\n",
        "        self.tokenizer = tokenizer\n",
        "    \n",
        "    def numericalize(self, t:Collection[str]) -> List[int]:\n",
        "        \"Convert a list of tokens `t` to their ids.\"\n",
        "        return self.tokenizer.convert_tokens_to_ids(t)\n",
        "        #return self.tokenizer.encode(t)\n",
        "\n",
        "    def textify(self, nums:Collection[int], sep=' ') -> List[str]:\n",
        "        \"Convert a list of `nums` to their tokens.\"\n",
        "        nums = np.array(nums).tolist()\n",
        "        return sep.join(self.tokenizer.convert_ids_to_tokens(nums)) if sep is not None else self.tokenizer.convert_ids_to_tokens(nums)\n",
        "    \n",
        "    def __getstate__(self):\n",
        "        return {'itos':self.itos, 'tokenizer':self.tokenizer}\n",
        "\n",
        "    def __setstate__(self, state:dict):\n",
        "        self.itos = state['itos']\n",
        "        self.tokenizer = state['tokenizer']\n",
        "        self.stoi = collections.defaultdict(int,{v:k for k,v in enumerate(self.itos)})"
      ],
      "execution_count": 16,
      "outputs": []
    },
    {
      "cell_type": "code",
      "metadata": {
        "id": "H9nKrkDShxDC",
        "colab_type": "code",
        "colab": {}
      },
      "source": [
        "transformer_vocab =  TransformersVocab(tokenizer = transformer_tokenizer)\n",
        "numericalize_processor = NumericalizeProcessor(vocab=transformer_vocab)\n",
        "\n",
        "tokenize_processor = TokenizeProcessor(tokenizer=fastai_tokenizer, include_bos=False, include_eos=False)\n",
        "\n",
        "transformer_processor = [tokenize_processor, numericalize_processor]"
      ],
      "execution_count": 17,
      "outputs": []
    },
    {
      "cell_type": "code",
      "metadata": {
        "id": "SBHQmn2giI7o",
        "colab_type": "code",
        "colab": {}
      },
      "source": [
        "pad_first = bool(model_type in ['xlnet'])\n",
        "pad_idx = transformer_tokenizer.pad_token_id"
      ],
      "execution_count": 18,
      "outputs": []
    },
    {
      "cell_type": "code",
      "metadata": {
        "id": "13c6Cz1PiTZh",
        "colab_type": "code",
        "colab": {
          "base_uri": "https://localhost:8080/",
          "height": 69
        },
        "outputId": "5a71be70-2a62-4c4e-d01c-857372199497"
      },
      "source": [
        "tokens = transformer_tokenizer.tokenize('Salut c est moi, Hello it s me')\n",
        "print(tokens)\n",
        "ids = transformer_tokenizer.convert_tokens_to_ids(tokens)\n",
        "print(ids)\n",
        "transformer_tokenizer.convert_ids_to_tokens(ids)"
      ],
      "execution_count": 19,
      "outputs": [
        {
          "output_type": "stream",
          "text": [
            "['Sal', 'ut', 'Ġc', 'Ġest', 'Ġmo', 'i', ',', 'ĠHello', 'Ġit', 'Ġs', 'Ġme']\n",
            "[18111, 1182, 740, 3304, 7458, 118, 6, 20920, 24, 579, 162]\n"
          ],
          "name": "stdout"
        },
        {
          "output_type": "execute_result",
          "data": {
            "text/plain": [
              "['Sal', 'ut', 'Ġc', 'Ġest', 'Ġmo', 'i', ',', 'ĠHello', 'Ġit', 'Ġs', 'Ġme']"
            ]
          },
          "metadata": {
            "tags": []
          },
          "execution_count": 19
        }
      ]
    },
    {
      "cell_type": "code",
      "metadata": {
        "id": "urahA_zpivv3",
        "colab_type": "code",
        "colab": {
          "base_uri": "https://localhost:8080/",
          "height": 17
        },
        "outputId": "c7b39438-c400-4c90-bfcf-7634ceea6ab3"
      },
      "source": [
        "databunch = (TextList.from_df(train_set, cols='text', processor=transformer_processor)\n",
        "             .split_by_rand_pct(0.1,seed=seed)\n",
        "             .label_from_df(cols= 'sentiment')\n",
        "             .add_test(test_set)\n",
        "             .databunch(bs=bs, pad_first=pad_first, pad_idx=pad_idx))"
      ],
      "execution_count": 20,
      "outputs": [
        {
          "output_type": "display_data",
          "data": {
            "text/html": [
              ""
            ],
            "text/plain": [
              "<IPython.core.display.HTML object>"
            ]
          },
          "metadata": {
            "tags": []
          }
        },
        {
          "output_type": "display_data",
          "data": {
            "text/html": [
              ""
            ],
            "text/plain": [
              "<IPython.core.display.HTML object>"
            ]
          },
          "metadata": {
            "tags": []
          }
        },
        {
          "output_type": "display_data",
          "data": {
            "text/html": [
              ""
            ],
            "text/plain": [
              "<IPython.core.display.HTML object>"
            ]
          },
          "metadata": {
            "tags": []
          }
        }
      ]
    },
    {
      "cell_type": "code",
      "metadata": {
        "id": "fz2d0SkzjTkF",
        "colab_type": "code",
        "colab": {
          "base_uri": "https://localhost:8080/",
          "height": 328
        },
        "outputId": "1cbb35e4-8f61-4f4d-d817-bc199a158235"
      },
      "source": [
        "print('[CLS] token :', transformer_tokenizer.cls_token)\n",
        "print('[SEP] token :', transformer_tokenizer.sep_token)\n",
        "print('[PAD] token :', transformer_tokenizer.pad_token)\n",
        "databunch.show_batch()"
      ],
      "execution_count": 21,
      "outputs": [
        {
          "output_type": "stream",
          "text": [
            "[CLS] token : <s>\n",
            "[SEP] token : </s>\n",
            "[PAD] token : <pad>\n"
          ],
          "name": "stdout"
        },
        {
          "output_type": "display_data",
          "data": {
            "text/html": [
              "<table border=\"1\" class=\"dataframe\">\n",
              "  <thead>\n",
              "    <tr style=\"text-align: right;\">\n",
              "      <th>text</th>\n",
              "      <th>target</th>\n",
              "    </tr>\n",
              "  </thead>\n",
              "  <tbody>\n",
              "    <tr>\n",
              "      <td>&lt;s&gt; Ġi Ġam Ġfinancially Ġconstrained Ġover Ġschool Ġfee Ġand Ġmy Ġfamily Ġbackground Ġis Ġnot Ġstable Ġwith Ġa Ġlot Ġof Ġdebts âĢ¦ i Ġhave Ġan Ġelderly Ġbrother Ġwho Ġcould Ġeasily Ġsupport Ġme Ġbut Ġha Ġno Ġjob Ġeven Ġafter Ġgraduating &lt;/s&gt;</td>\n",
              "      <td>0</td>\n",
              "    </tr>\n",
              "    <tr>\n",
              "      <td>&lt;s&gt; Ġi Ġam Ġfacing Ġa Ġlot Ġof Ġchallenge Ġin Ġlife Ġfinancially Ġemotionally Ġpsy c ologically Ġand Ġwith Ġno Ġsolutions âĢ¦ how Ġcan Ġi Ġsafely Ġlook Ġfor Ġsolution Ġabout Ġdepression Ġon Ġgoogle &lt;/s&gt;</td>\n",
              "      <td>0</td>\n",
              "    </tr>\n",
              "    <tr>\n",
              "      <td>&lt;s&gt; Ġi Ġfeel Ġlike Ġthe Ġworld Ġwa Ġagainst Ġme Ġespecially Ġfrom Ġfriend Ġand Ġrelative Ġwho Ġwere Ġclose Ġto Ġme Ġi Ġconqu red Ġit Ġthat Ġmy Ġlife Ġis Ġmore Ġimportant &lt;/s&gt;</td>\n",
              "      <td>0</td>\n",
              "    </tr>\n",
              "    <tr>\n",
              "      <td>&lt;s&gt; Ġwhat Ġcan Ġi Ġdo Ġto Ġavoid Ġloss Ġof Ġconcentration Ġin Ġclass Ġthrough Ġfantas izing Ġin Ġclass Ġand Ġstudy Ġtimes on Ġromance Ġand Ġp on ographic Ġissue &lt;/s&gt;</td>\n",
              "      <td>0</td>\n",
              "    </tr>\n",
              "    <tr>\n",
              "      <td>&lt;s&gt; Ġi Ġfeel Ġdepressed Ġbecause Ġof Ġissue Ġwith Ġmy Ġbest Ġfriend Ġand Ġmy Ġparent Ġi Ġwa Ġat Ġmy Ġlowest Ġpoint Ġbeing Ġlow key Ġeveryday &lt;/s&gt;</td>\n",
              "      <td>0</td>\n",
              "    </tr>\n",
              "  </tbody>\n",
              "</table>"
            ],
            "text/plain": [
              "<IPython.core.display.HTML object>"
            ]
          },
          "metadata": {
            "tags": []
          }
        }
      ]
    },
    {
      "cell_type": "code",
      "metadata": {
        "id": "8I05ygax7nlF",
        "colab_type": "code",
        "colab": {
          "base_uri": "https://localhost:8080/",
          "height": 1000
        },
        "outputId": "6a26f3e4-23e2-41d6-aaba-daf8638c2bad"
      },
      "source": [
        "print('[CLS] id :', transformer_tokenizer.cls_token_id)\n",
        "print('[SEP] id :', transformer_tokenizer.sep_token_id)\n",
        "print('[PAD] id :', pad_idx)\n",
        "test_one_batch = databunch.one_batch()[0]\n",
        "print('Batch shape : ',test_one_batch.shape)\n",
        "print(test_one_batch)"
      ],
      "execution_count": 22,
      "outputs": [
        {
          "output_type": "stream",
          "text": [
            "[CLS] id : 0\n",
            "[SEP] id : 2\n",
            "[PAD] id : 1\n",
            "Batch shape :  torch.Size([16, 39])\n",
            "tensor([[    0,   939,   524, 10625, 26525,    81,   334,  4029,     8,   127,\n",
            "           284,  3618,    16,    45,  4375,    19,    10,   319,     9, 13035,\n",
            "          1174,   118,    33,    41,  7497,  2138,    54,   115,  2773,   323,\n",
            "           162,    53,  2489,   117,   633,   190,    71, 15128,     2],\n",
            "        [    0,   939,   524,  2114,    10,   319,     9,  1539,    11,   301,\n",
            "         10625, 13582, 43114,   438, 30570,     8,    19,   117,  2643,  1174,\n",
            "          9178,    64,   939,  7385,   356,    13,  2472,    59,  6943,    15,\n",
            "         39121,     2,     1,     1,     1,     1,     1,     1,     1],\n",
            "        [    0,   939,   619,   101,     5,   232, 13332,   136,   162,   941,\n",
            "            31,  1441,     8,  5407,    54,    58,   593,     7,   162,   939,\n",
            "         40647,  2050,    24,    14,   127,   301,    16,    55,   505,     2,\n",
            "             1,     1,     1,     1,     1,     1,     1,     1,     1],\n",
            "        [    0,    99,    64,   939,   109,     7,  1877,   872,     9, 11772,\n",
            "            11,  1380,   149, 41069,  2787,    11,  1380,     8,   892,   498,\n",
            "           261,  9884,     8,   181,   261, 25510,   696,     2,     1,     1,\n",
            "             1,     1,     1,     1,     1,     1,     1,     1,     1],\n",
            "        [    0,   939,   619, 16658,   142,     9,   696,    19,   127,   275,\n",
            "          1441,     8,   127,  4095,   939, 13332,    23,   127,  3912,   477,\n",
            "           145,   614,  5282,  7476,     2,     1,     1,     1,     1,     1,\n",
            "             1,     1,     1,     1,     1,     1,     1,     1,     1],\n",
            "        [    0,   939,   222,    45,  1394,    13,   143,  3485,    23,    78,\n",
            "            53,   423,     8,  2952,    13,  3485,     8,    24,  1147,   162,\n",
            "            11,    10,   205,   169,     2,     1,     1,     1,     1,     1,\n",
            "             1,     1,     1,     1,     1,     1,     1,     1,     1],\n",
            "        [    0,   939,   524,  7242,    10,  1539,    11,  3282,   127,   334,\n",
            "          4029,     8,    24, 13332,    45,    41,  1365,  3685,   142,     9,\n",
            "             5,   284,   696,     2,     1,     1,     1,     1,     1,     1,\n",
            "             1,     1,     1,     1,     1,     1,     1,     1,     1],\n",
            "        [    0,   596,   109,    82,   185,  3766,     8,   141,  1796,  2617,\n",
            "            16,    24,     7,    49,   301,    99,   197,    65,   109,     7,\n",
            "          1877,   602,  3766,     2,     1,     1,     1,     1,     1,     1,\n",
            "             1,     1,     1,     1,     1,     1,     1,     1,     1],\n",
            "        [    0,    23,   184,   117,    65, 25245,     7,   162,   127,  4095,\n",
            "           554, 13856,   154,     8, 18690,  3009,   475,  2753,  8849,    64,\n",
            "           939,   109,     2,     1,     1,     1,     1,     1,     1,     1,\n",
            "             1,     1,     1,     1,     1,     1,     1,     1,     1],\n",
            "        [    0,   939, 13332,   655,  5074, 22446,     8,   460,    15,  2196,\n",
            "          8310,   939,   216,   141,     7, 10731,    19,  2430,  6659,    11,\n",
            "           127,   301,     2,     1,     1,     1,     1,     1,     1,     1,\n",
            "             1,     1,     1,     1,     1,     1,     1,     1,     1],\n",
            "        [    0,   939, 13332, 12961,     8,   141,   251,   197,   939,  1095,\n",
            "           881,    50,   579, 25513,   939,  3704,    88,   277,  3115,  3592,\n",
            "          3320,     2,     1,     1,     1,     1,     1,     1,     1,     1,\n",
            "             1,     1,     1,     1,     1,     1,     1,     1,     1],\n",
            "        [    0,   939,   619,    14,  5907,  2638,   162,    10,   203,   114,\n",
            "           939, 13332,    11,   127,   308,   232,   939,   619,   203,  5673,\n",
            "           859,     2,     1,     1,     1,     1,     1,     1,     1,     1,\n",
            "             1,     1,     1,     1,     1,     1,     1,     1,     1],\n",
            "        [    0,    77,   951,    16, 16658,    37,  8877,   619,   159, 25788,\n",
            "             8,  1937,   939,   619,    66,     9,    42,   317, 20100,     8,\n",
            "         25788,     2,     1,     1,     1,     1,     1,     1,     1,     1,\n",
            "             1,     1,     1,     1,     1,     1,     1,     1,     1],\n",
            "        [    0,   939,   269,   619,    98,   159, 32759,     8,  2982,  2399,\n",
            "           196,   939,   619,    55,  8273, 13937,     8,  1818,    13,  3824,\n",
            "             2,     1,     1,     1,     1,     1,     1,     1,     1,     1,\n",
            "             1,     1,     1,     1,     1,     1,     1,     1,     1],\n",
            "        [    0,   939,   619,   101,  9069,    56,  6978,   162,    50,  1195,\n",
            "           939,   524,    45,  3518,     7,    28,  2421,    50,  5152,   417,\n",
            "             2,     1,     1,     1,     1,     1,     1,     1,     1,     1,\n",
            "             1,     1,     1,     1,     1,     1,     1,     1,     1],\n",
            "        [    0,   939,   269,   619, 23809,    19,     5,  1068,   939,   524,\n",
            "            11,     8,  7242, 24719,  3141,     8,    10,  1762,     9, 11037,\n",
            "             2,     1,     1,     1,     1,     1,     1,     1,     1,     1,\n",
            "             1,     1,     1,     1,     1,     1,     1,     1,     1]])\n"
          ],
          "name": "stdout"
        }
      ]
    },
    {
      "cell_type": "code",
      "metadata": {
        "id": "vLgsq7s_7szv",
        "colab_type": "code",
        "colab": {}
      },
      "source": [
        "# defining our model architecture \n",
        "class CustomTransformerModel(nn.Module):\n",
        "    def __init__(self, transformer_model: PreTrainedModel):\n",
        "        super(CustomTransformerModel,self).__init__()\n",
        "        self.transformer = transformer_model\n",
        "        \n",
        "    def forward(self, input_ids, attention_mask=None):\n",
        "        \n",
        "        # attention_mask\n",
        "        # Mask to avoid performing attention on padding token indices.\n",
        "        # Mask values selected in ``[0, 1]``:\n",
        "        # ``1`` for tokens that are NOT MASKED, ``0`` for MASKED tokens.\n",
        "        attention_mask = (input_ids!=pad_idx).type(input_ids.type()) \n",
        "        \n",
        "        logits = self.transformer(input_ids,\n",
        "                                  attention_mask = attention_mask)[0]   \n",
        "        return logits\n"
      ],
      "execution_count": 23,
      "outputs": []
    },
    {
      "cell_type": "code",
      "metadata": {
        "id": "PQcSy7rXjjyy",
        "colab_type": "code",
        "colab": {
          "base_uri": "https://localhost:8080/",
          "height": 607
        },
        "outputId": "94f80fdb-b65b-4634-a852-ce383878cdb8"
      },
      "source": [
        "config = config_class.from_pretrained(pretrained_model_name)\n",
        "config.num_labels = 4\n",
        "config.use_bfloat16 = use_fp16\n",
        "print(config)"
      ],
      "execution_count": 24,
      "outputs": [
        {
          "output_type": "stream",
          "text": [
            "RobertaConfig {\n",
            "  \"architectures\": [\n",
            "    \"RobertaForMaskedLM\"\n",
            "  ],\n",
            "  \"attention_probs_dropout_prob\": 0.1,\n",
            "  \"bos_token_id\": 0,\n",
            "  \"eos_token_id\": 2,\n",
            "  \"hidden_act\": \"gelu\",\n",
            "  \"hidden_dropout_prob\": 0.1,\n",
            "  \"hidden_size\": 768,\n",
            "  \"id2label\": {\n",
            "    \"0\": \"LABEL_0\",\n",
            "    \"1\": \"LABEL_1\",\n",
            "    \"2\": \"LABEL_2\",\n",
            "    \"3\": \"LABEL_3\"\n",
            "  },\n",
            "  \"initializer_range\": 0.02,\n",
            "  \"intermediate_size\": 3072,\n",
            "  \"label2id\": {\n",
            "    \"LABEL_0\": 0,\n",
            "    \"LABEL_1\": 1,\n",
            "    \"LABEL_2\": 2,\n",
            "    \"LABEL_3\": 3\n",
            "  },\n",
            "  \"layer_norm_eps\": 1e-05,\n",
            "  \"max_position_embeddings\": 514,\n",
            "  \"model_type\": \"roberta\",\n",
            "  \"num_attention_heads\": 12,\n",
            "  \"num_hidden_layers\": 6,\n",
            "  \"pad_token_id\": 1,\n",
            "  \"type_vocab_size\": 1,\n",
            "  \"vocab_size\": 50265\n",
            "}\n",
            "\n"
          ],
          "name": "stdout"
        }
      ]
    },
    {
      "cell_type": "code",
      "metadata": {
        "id": "etgdzSiijzgr",
        "colab_type": "code",
        "colab": {}
      },
      "source": [
        "transformer_model = model_class.from_pretrained(pretrained_model_name, config = config)\n",
        "# transformer_model = model_class.from_pretrained(pretrained_model_name, num_labels = 4)\n",
        "\n",
        "custom_transformer_model = CustomTransformerModel(transformer_model = transformer_model)"
      ],
      "execution_count": 25,
      "outputs": []
    },
    {
      "cell_type": "code",
      "metadata": {
        "id": "5u6twJn8j7OK",
        "colab_type": "code",
        "colab": {}
      },
      "source": [
        "from fastai.callbacks import *\n",
        "from transformers import AdamW\n",
        "from functools import partial\n",
        "\n",
        "CustomAdamW = partial(AdamW, correct_bias=False)\n",
        "\n",
        "learner = Learner(databunch, \n",
        "                  custom_transformer_model, \n",
        "                  opt_func = CustomAdamW, \n",
        "                  metrics=[accuracy, error_rate])\n",
        "\n",
        "# Show graph of learner stats and metrics after each epoch.\n",
        "learner.callbacks.append(ShowGraph(learner))\n",
        "\n",
        "# Put learn in FP16 precision mode. --> Seems to not working\n",
        "if use_fp16: learner = learner.to_fp16()"
      ],
      "execution_count": 26,
      "outputs": []
    },
    {
      "cell_type": "code",
      "metadata": {
        "id": "bgitQ8NfkYYy",
        "colab_type": "code",
        "colab": {
          "base_uri": "https://localhost:8080/",
          "height": 1000
        },
        "outputId": "4ab8bd2b-312f-435a-968a-1c4f4f14d73f"
      },
      "source": [
        "print(learner.model)\n"
      ],
      "execution_count": 27,
      "outputs": [
        {
          "output_type": "stream",
          "text": [
            "CustomTransformerModel(\n",
            "  (transformer): RobertaForSequenceClassification(\n",
            "    (roberta): RobertaModel(\n",
            "      (embeddings): RobertaEmbeddings(\n",
            "        (word_embeddings): Embedding(50265, 768, padding_idx=1)\n",
            "        (position_embeddings): Embedding(514, 768, padding_idx=1)\n",
            "        (token_type_embeddings): Embedding(1, 768)\n",
            "        (LayerNorm): LayerNorm((768,), eps=1e-05, elementwise_affine=True)\n",
            "        (dropout): Dropout(p=0.1, inplace=False)\n",
            "      )\n",
            "      (encoder): BertEncoder(\n",
            "        (layer): ModuleList(\n",
            "          (0): BertLayer(\n",
            "            (attention): BertAttention(\n",
            "              (self): BertSelfAttention(\n",
            "                (query): Linear(in_features=768, out_features=768, bias=True)\n",
            "                (key): Linear(in_features=768, out_features=768, bias=True)\n",
            "                (value): Linear(in_features=768, out_features=768, bias=True)\n",
            "                (dropout): Dropout(p=0.1, inplace=False)\n",
            "              )\n",
            "              (output): BertSelfOutput(\n",
            "                (dense): Linear(in_features=768, out_features=768, bias=True)\n",
            "                (LayerNorm): LayerNorm((768,), eps=1e-05, elementwise_affine=True)\n",
            "                (dropout): Dropout(p=0.1, inplace=False)\n",
            "              )\n",
            "            )\n",
            "            (intermediate): BertIntermediate(\n",
            "              (dense): Linear(in_features=768, out_features=3072, bias=True)\n",
            "            )\n",
            "            (output): BertOutput(\n",
            "              (dense): Linear(in_features=3072, out_features=768, bias=True)\n",
            "              (LayerNorm): LayerNorm((768,), eps=1e-05, elementwise_affine=True)\n",
            "              (dropout): Dropout(p=0.1, inplace=False)\n",
            "            )\n",
            "          )\n",
            "          (1): BertLayer(\n",
            "            (attention): BertAttention(\n",
            "              (self): BertSelfAttention(\n",
            "                (query): Linear(in_features=768, out_features=768, bias=True)\n",
            "                (key): Linear(in_features=768, out_features=768, bias=True)\n",
            "                (value): Linear(in_features=768, out_features=768, bias=True)\n",
            "                (dropout): Dropout(p=0.1, inplace=False)\n",
            "              )\n",
            "              (output): BertSelfOutput(\n",
            "                (dense): Linear(in_features=768, out_features=768, bias=True)\n",
            "                (LayerNorm): LayerNorm((768,), eps=1e-05, elementwise_affine=True)\n",
            "                (dropout): Dropout(p=0.1, inplace=False)\n",
            "              )\n",
            "            )\n",
            "            (intermediate): BertIntermediate(\n",
            "              (dense): Linear(in_features=768, out_features=3072, bias=True)\n",
            "            )\n",
            "            (output): BertOutput(\n",
            "              (dense): Linear(in_features=3072, out_features=768, bias=True)\n",
            "              (LayerNorm): LayerNorm((768,), eps=1e-05, elementwise_affine=True)\n",
            "              (dropout): Dropout(p=0.1, inplace=False)\n",
            "            )\n",
            "          )\n",
            "          (2): BertLayer(\n",
            "            (attention): BertAttention(\n",
            "              (self): BertSelfAttention(\n",
            "                (query): Linear(in_features=768, out_features=768, bias=True)\n",
            "                (key): Linear(in_features=768, out_features=768, bias=True)\n",
            "                (value): Linear(in_features=768, out_features=768, bias=True)\n",
            "                (dropout): Dropout(p=0.1, inplace=False)\n",
            "              )\n",
            "              (output): BertSelfOutput(\n",
            "                (dense): Linear(in_features=768, out_features=768, bias=True)\n",
            "                (LayerNorm): LayerNorm((768,), eps=1e-05, elementwise_affine=True)\n",
            "                (dropout): Dropout(p=0.1, inplace=False)\n",
            "              )\n",
            "            )\n",
            "            (intermediate): BertIntermediate(\n",
            "              (dense): Linear(in_features=768, out_features=3072, bias=True)\n",
            "            )\n",
            "            (output): BertOutput(\n",
            "              (dense): Linear(in_features=3072, out_features=768, bias=True)\n",
            "              (LayerNorm): LayerNorm((768,), eps=1e-05, elementwise_affine=True)\n",
            "              (dropout): Dropout(p=0.1, inplace=False)\n",
            "            )\n",
            "          )\n",
            "          (3): BertLayer(\n",
            "            (attention): BertAttention(\n",
            "              (self): BertSelfAttention(\n",
            "                (query): Linear(in_features=768, out_features=768, bias=True)\n",
            "                (key): Linear(in_features=768, out_features=768, bias=True)\n",
            "                (value): Linear(in_features=768, out_features=768, bias=True)\n",
            "                (dropout): Dropout(p=0.1, inplace=False)\n",
            "              )\n",
            "              (output): BertSelfOutput(\n",
            "                (dense): Linear(in_features=768, out_features=768, bias=True)\n",
            "                (LayerNorm): LayerNorm((768,), eps=1e-05, elementwise_affine=True)\n",
            "                (dropout): Dropout(p=0.1, inplace=False)\n",
            "              )\n",
            "            )\n",
            "            (intermediate): BertIntermediate(\n",
            "              (dense): Linear(in_features=768, out_features=3072, bias=True)\n",
            "            )\n",
            "            (output): BertOutput(\n",
            "              (dense): Linear(in_features=3072, out_features=768, bias=True)\n",
            "              (LayerNorm): LayerNorm((768,), eps=1e-05, elementwise_affine=True)\n",
            "              (dropout): Dropout(p=0.1, inplace=False)\n",
            "            )\n",
            "          )\n",
            "          (4): BertLayer(\n",
            "            (attention): BertAttention(\n",
            "              (self): BertSelfAttention(\n",
            "                (query): Linear(in_features=768, out_features=768, bias=True)\n",
            "                (key): Linear(in_features=768, out_features=768, bias=True)\n",
            "                (value): Linear(in_features=768, out_features=768, bias=True)\n",
            "                (dropout): Dropout(p=0.1, inplace=False)\n",
            "              )\n",
            "              (output): BertSelfOutput(\n",
            "                (dense): Linear(in_features=768, out_features=768, bias=True)\n",
            "                (LayerNorm): LayerNorm((768,), eps=1e-05, elementwise_affine=True)\n",
            "                (dropout): Dropout(p=0.1, inplace=False)\n",
            "              )\n",
            "            )\n",
            "            (intermediate): BertIntermediate(\n",
            "              (dense): Linear(in_features=768, out_features=3072, bias=True)\n",
            "            )\n",
            "            (output): BertOutput(\n",
            "              (dense): Linear(in_features=3072, out_features=768, bias=True)\n",
            "              (LayerNorm): LayerNorm((768,), eps=1e-05, elementwise_affine=True)\n",
            "              (dropout): Dropout(p=0.1, inplace=False)\n",
            "            )\n",
            "          )\n",
            "          (5): BertLayer(\n",
            "            (attention): BertAttention(\n",
            "              (self): BertSelfAttention(\n",
            "                (query): Linear(in_features=768, out_features=768, bias=True)\n",
            "                (key): Linear(in_features=768, out_features=768, bias=True)\n",
            "                (value): Linear(in_features=768, out_features=768, bias=True)\n",
            "                (dropout): Dropout(p=0.1, inplace=False)\n",
            "              )\n",
            "              (output): BertSelfOutput(\n",
            "                (dense): Linear(in_features=768, out_features=768, bias=True)\n",
            "                (LayerNorm): LayerNorm((768,), eps=1e-05, elementwise_affine=True)\n",
            "                (dropout): Dropout(p=0.1, inplace=False)\n",
            "              )\n",
            "            )\n",
            "            (intermediate): BertIntermediate(\n",
            "              (dense): Linear(in_features=768, out_features=3072, bias=True)\n",
            "            )\n",
            "            (output): BertOutput(\n",
            "              (dense): Linear(in_features=3072, out_features=768, bias=True)\n",
            "              (LayerNorm): LayerNorm((768,), eps=1e-05, elementwise_affine=True)\n",
            "              (dropout): Dropout(p=0.1, inplace=False)\n",
            "            )\n",
            "          )\n",
            "        )\n",
            "      )\n",
            "      (pooler): BertPooler(\n",
            "        (dense): Linear(in_features=768, out_features=768, bias=True)\n",
            "        (activation): Tanh()\n",
            "      )\n",
            "    )\n",
            "    (classifier): RobertaClassificationHead(\n",
            "      (dense): Linear(in_features=768, out_features=768, bias=True)\n",
            "      (dropout): Dropout(p=0.1, inplace=False)\n",
            "      (out_proj): Linear(in_features=768, out_features=4, bias=True)\n",
            "    )\n",
            "  )\n",
            ")\n"
          ],
          "name": "stdout"
        }
      ]
    },
    {
      "cell_type": "code",
      "metadata": {
        "id": "QXcV4naZkstF",
        "colab_type": "code",
        "colab": {}
      },
      "source": [
        "list_layers = [learner.model.transformer.roberta.embeddings,\n",
        "              learner.model.transformer.roberta.encoder.layer[0],\n",
        "              learner.model.transformer.roberta.encoder.layer[1],\n",
        "              learner.model.transformer.roberta.encoder.layer[2],\n",
        "              learner.model.transformer.roberta.encoder.layer[3],\n",
        "              learner.model.transformer.roberta.encoder.layer[4],\n",
        "              learner.model.transformer.roberta.encoder.layer[5],\n",
        "              learner.model.transformer.roberta.pooler]"
      ],
      "execution_count": 28,
      "outputs": []
    },
    {
      "cell_type": "code",
      "metadata": {
        "id": "jsgF9frkk9hR",
        "colab_type": "code",
        "colab": {
          "base_uri": "https://localhost:8080/",
          "height": 1000
        },
        "outputId": "02ede1e8-9553-4562-fb67-f43485e15b44"
      },
      "source": [
        "learner.split(list_layers)\n",
        "num_groups = len(learner.layer_groups)\n",
        "print('Learner split in',num_groups,'groups')\n",
        "print(learner.layer_groups)"
      ],
      "execution_count": 29,
      "outputs": [
        {
          "output_type": "stream",
          "text": [
            "Learner split in 8 groups\n",
            "[Sequential(\n",
            "  (0): Embedding(50265, 768, padding_idx=1)\n",
            "  (1): Embedding(514, 768, padding_idx=1)\n",
            "  (2): Embedding(1, 768)\n",
            "  (3): LayerNorm((768,), eps=1e-05, elementwise_affine=True)\n",
            "  (4): Dropout(p=0.1, inplace=False)\n",
            "), Sequential(\n",
            "  (0): Linear(in_features=768, out_features=768, bias=True)\n",
            "  (1): Linear(in_features=768, out_features=768, bias=True)\n",
            "  (2): Linear(in_features=768, out_features=768, bias=True)\n",
            "  (3): Dropout(p=0.1, inplace=False)\n",
            "  (4): Linear(in_features=768, out_features=768, bias=True)\n",
            "  (5): LayerNorm((768,), eps=1e-05, elementwise_affine=True)\n",
            "  (6): Dropout(p=0.1, inplace=False)\n",
            "  (7): Linear(in_features=768, out_features=3072, bias=True)\n",
            "  (8): Linear(in_features=3072, out_features=768, bias=True)\n",
            "  (9): LayerNorm((768,), eps=1e-05, elementwise_affine=True)\n",
            "  (10): Dropout(p=0.1, inplace=False)\n",
            "), Sequential(\n",
            "  (0): Linear(in_features=768, out_features=768, bias=True)\n",
            "  (1): Linear(in_features=768, out_features=768, bias=True)\n",
            "  (2): Linear(in_features=768, out_features=768, bias=True)\n",
            "  (3): Dropout(p=0.1, inplace=False)\n",
            "  (4): Linear(in_features=768, out_features=768, bias=True)\n",
            "  (5): LayerNorm((768,), eps=1e-05, elementwise_affine=True)\n",
            "  (6): Dropout(p=0.1, inplace=False)\n",
            "  (7): Linear(in_features=768, out_features=3072, bias=True)\n",
            "  (8): Linear(in_features=3072, out_features=768, bias=True)\n",
            "  (9): LayerNorm((768,), eps=1e-05, elementwise_affine=True)\n",
            "  (10): Dropout(p=0.1, inplace=False)\n",
            "), Sequential(\n",
            "  (0): Linear(in_features=768, out_features=768, bias=True)\n",
            "  (1): Linear(in_features=768, out_features=768, bias=True)\n",
            "  (2): Linear(in_features=768, out_features=768, bias=True)\n",
            "  (3): Dropout(p=0.1, inplace=False)\n",
            "  (4): Linear(in_features=768, out_features=768, bias=True)\n",
            "  (5): LayerNorm((768,), eps=1e-05, elementwise_affine=True)\n",
            "  (6): Dropout(p=0.1, inplace=False)\n",
            "  (7): Linear(in_features=768, out_features=3072, bias=True)\n",
            "  (8): Linear(in_features=3072, out_features=768, bias=True)\n",
            "  (9): LayerNorm((768,), eps=1e-05, elementwise_affine=True)\n",
            "  (10): Dropout(p=0.1, inplace=False)\n",
            "), Sequential(\n",
            "  (0): Linear(in_features=768, out_features=768, bias=True)\n",
            "  (1): Linear(in_features=768, out_features=768, bias=True)\n",
            "  (2): Linear(in_features=768, out_features=768, bias=True)\n",
            "  (3): Dropout(p=0.1, inplace=False)\n",
            "  (4): Linear(in_features=768, out_features=768, bias=True)\n",
            "  (5): LayerNorm((768,), eps=1e-05, elementwise_affine=True)\n",
            "  (6): Dropout(p=0.1, inplace=False)\n",
            "  (7): Linear(in_features=768, out_features=3072, bias=True)\n",
            "  (8): Linear(in_features=3072, out_features=768, bias=True)\n",
            "  (9): LayerNorm((768,), eps=1e-05, elementwise_affine=True)\n",
            "  (10): Dropout(p=0.1, inplace=False)\n",
            "), Sequential(\n",
            "  (0): Linear(in_features=768, out_features=768, bias=True)\n",
            "  (1): Linear(in_features=768, out_features=768, bias=True)\n",
            "  (2): Linear(in_features=768, out_features=768, bias=True)\n",
            "  (3): Dropout(p=0.1, inplace=False)\n",
            "  (4): Linear(in_features=768, out_features=768, bias=True)\n",
            "  (5): LayerNorm((768,), eps=1e-05, elementwise_affine=True)\n",
            "  (6): Dropout(p=0.1, inplace=False)\n",
            "  (7): Linear(in_features=768, out_features=3072, bias=True)\n",
            "  (8): Linear(in_features=3072, out_features=768, bias=True)\n",
            "  (9): LayerNorm((768,), eps=1e-05, elementwise_affine=True)\n",
            "  (10): Dropout(p=0.1, inplace=False)\n",
            "), Sequential(\n",
            "  (0): Linear(in_features=768, out_features=768, bias=True)\n",
            "  (1): Linear(in_features=768, out_features=768, bias=True)\n",
            "  (2): Linear(in_features=768, out_features=768, bias=True)\n",
            "  (3): Dropout(p=0.1, inplace=False)\n",
            "  (4): Linear(in_features=768, out_features=768, bias=True)\n",
            "  (5): LayerNorm((768,), eps=1e-05, elementwise_affine=True)\n",
            "  (6): Dropout(p=0.1, inplace=False)\n",
            "  (7): Linear(in_features=768, out_features=3072, bias=True)\n",
            "  (8): Linear(in_features=3072, out_features=768, bias=True)\n",
            "  (9): LayerNorm((768,), eps=1e-05, elementwise_affine=True)\n",
            "  (10): Dropout(p=0.1, inplace=False)\n",
            "), Sequential(\n",
            "  (0): Linear(in_features=768, out_features=768, bias=True)\n",
            "  (1): Tanh()\n",
            "  (2): Linear(in_features=768, out_features=768, bias=True)\n",
            "  (3): Dropout(p=0.1, inplace=False)\n",
            "  (4): Linear(in_features=768, out_features=4, bias=True)\n",
            ")]\n"
          ],
          "name": "stdout"
        }
      ]
    },
    {
      "cell_type": "code",
      "metadata": {
        "id": "tlcPQPgZlsZJ",
        "colab_type": "code",
        "colab": {}
      },
      "source": [
        "learner.save('untrain')"
      ],
      "execution_count": 30,
      "outputs": []
    },
    {
      "cell_type": "code",
      "metadata": {
        "id": "xDUykD6il1mY",
        "colab_type": "code",
        "colab": {}
      },
      "source": [
        "seed_all(seed)\n",
        "learner.load('untrain');"
      ],
      "execution_count": 31,
      "outputs": []
    },
    {
      "cell_type": "code",
      "metadata": {
        "id": "tyjd5uvhl4DB",
        "colab_type": "code",
        "colab": {}
      },
      "source": [
        "learner.freeze_to(-1)"
      ],
      "execution_count": 32,
      "outputs": []
    },
    {
      "cell_type": "code",
      "metadata": {
        "id": "_XxJRf4Zl67k",
        "colab_type": "code",
        "colab": {
          "base_uri": "https://localhost:8080/",
          "height": 1000
        },
        "outputId": "0de2bbe9-7eea-42d5-c5a8-aaa6217dae38"
      },
      "source": [
        "learner.summary()"
      ],
      "execution_count": 33,
      "outputs": [
        {
          "output_type": "execute_result",
          "data": {
            "application/vnd.google.colaboratory.intrinsic": {
              "type": "string"
            },
            "text/plain": [
              "CustomTransformerModel\n",
              "======================================================================\n",
              "Layer (type)         Output Shape         Param #    Trainable \n",
              "======================================================================\n",
              "Embedding            [39, 768]            38,603,520 False     \n",
              "______________________________________________________________________\n",
              "Embedding            [39, 768]            394,752    False     \n",
              "______________________________________________________________________\n",
              "Embedding            [39, 768]            768        False     \n",
              "______________________________________________________________________\n",
              "LayerNorm            [39, 768]            1,536      False     \n",
              "______________________________________________________________________\n",
              "Dropout              [39, 768]            0          False     \n",
              "______________________________________________________________________\n",
              "Linear               [39, 768]            590,592    False     \n",
              "______________________________________________________________________\n",
              "Linear               [39, 768]            590,592    False     \n",
              "______________________________________________________________________\n",
              "Linear               [39, 768]            590,592    False     \n",
              "______________________________________________________________________\n",
              "Dropout              [12, 39, 39]         0          False     \n",
              "______________________________________________________________________\n",
              "Linear               [39, 768]            590,592    False     \n",
              "______________________________________________________________________\n",
              "LayerNorm            [39, 768]            1,536      False     \n",
              "______________________________________________________________________\n",
              "Dropout              [39, 768]            0          False     \n",
              "______________________________________________________________________\n",
              "Linear               [39, 3072]           2,362,368  False     \n",
              "______________________________________________________________________\n",
              "Linear               [39, 768]            2,360,064  False     \n",
              "______________________________________________________________________\n",
              "LayerNorm            [39, 768]            1,536      False     \n",
              "______________________________________________________________________\n",
              "Dropout              [39, 768]            0          False     \n",
              "______________________________________________________________________\n",
              "Linear               [39, 768]            590,592    False     \n",
              "______________________________________________________________________\n",
              "Linear               [39, 768]            590,592    False     \n",
              "______________________________________________________________________\n",
              "Linear               [39, 768]            590,592    False     \n",
              "______________________________________________________________________\n",
              "Dropout              [12, 39, 39]         0          False     \n",
              "______________________________________________________________________\n",
              "Linear               [39, 768]            590,592    False     \n",
              "______________________________________________________________________\n",
              "LayerNorm            [39, 768]            1,536      False     \n",
              "______________________________________________________________________\n",
              "Dropout              [39, 768]            0          False     \n",
              "______________________________________________________________________\n",
              "Linear               [39, 3072]           2,362,368  False     \n",
              "______________________________________________________________________\n",
              "Linear               [39, 768]            2,360,064  False     \n",
              "______________________________________________________________________\n",
              "LayerNorm            [39, 768]            1,536      False     \n",
              "______________________________________________________________________\n",
              "Dropout              [39, 768]            0          False     \n",
              "______________________________________________________________________\n",
              "Linear               [39, 768]            590,592    False     \n",
              "______________________________________________________________________\n",
              "Linear               [39, 768]            590,592    False     \n",
              "______________________________________________________________________\n",
              "Linear               [39, 768]            590,592    False     \n",
              "______________________________________________________________________\n",
              "Dropout              [12, 39, 39]         0          False     \n",
              "______________________________________________________________________\n",
              "Linear               [39, 768]            590,592    False     \n",
              "______________________________________________________________________\n",
              "LayerNorm            [39, 768]            1,536      False     \n",
              "______________________________________________________________________\n",
              "Dropout              [39, 768]            0          False     \n",
              "______________________________________________________________________\n",
              "Linear               [39, 3072]           2,362,368  False     \n",
              "______________________________________________________________________\n",
              "Linear               [39, 768]            2,360,064  False     \n",
              "______________________________________________________________________\n",
              "LayerNorm            [39, 768]            1,536      False     \n",
              "______________________________________________________________________\n",
              "Dropout              [39, 768]            0          False     \n",
              "______________________________________________________________________\n",
              "Linear               [39, 768]            590,592    False     \n",
              "______________________________________________________________________\n",
              "Linear               [39, 768]            590,592    False     \n",
              "______________________________________________________________________\n",
              "Linear               [39, 768]            590,592    False     \n",
              "______________________________________________________________________\n",
              "Dropout              [12, 39, 39]         0          False     \n",
              "______________________________________________________________________\n",
              "Linear               [39, 768]            590,592    False     \n",
              "______________________________________________________________________\n",
              "LayerNorm            [39, 768]            1,536      False     \n",
              "______________________________________________________________________\n",
              "Dropout              [39, 768]            0          False     \n",
              "______________________________________________________________________\n",
              "Linear               [39, 3072]           2,362,368  False     \n",
              "______________________________________________________________________\n",
              "Linear               [39, 768]            2,360,064  False     \n",
              "______________________________________________________________________\n",
              "LayerNorm            [39, 768]            1,536      False     \n",
              "______________________________________________________________________\n",
              "Dropout              [39, 768]            0          False     \n",
              "______________________________________________________________________\n",
              "Linear               [39, 768]            590,592    False     \n",
              "______________________________________________________________________\n",
              "Linear               [39, 768]            590,592    False     \n",
              "______________________________________________________________________\n",
              "Linear               [39, 768]            590,592    False     \n",
              "______________________________________________________________________\n",
              "Dropout              [12, 39, 39]         0          False     \n",
              "______________________________________________________________________\n",
              "Linear               [39, 768]            590,592    False     \n",
              "______________________________________________________________________\n",
              "LayerNorm            [39, 768]            1,536      False     \n",
              "______________________________________________________________________\n",
              "Dropout              [39, 768]            0          False     \n",
              "______________________________________________________________________\n",
              "Linear               [39, 3072]           2,362,368  False     \n",
              "______________________________________________________________________\n",
              "Linear               [39, 768]            2,360,064  False     \n",
              "______________________________________________________________________\n",
              "LayerNorm            [39, 768]            1,536      False     \n",
              "______________________________________________________________________\n",
              "Dropout              [39, 768]            0          False     \n",
              "______________________________________________________________________\n",
              "Linear               [39, 768]            590,592    False     \n",
              "______________________________________________________________________\n",
              "Linear               [39, 768]            590,592    False     \n",
              "______________________________________________________________________\n",
              "Linear               [39, 768]            590,592    False     \n",
              "______________________________________________________________________\n",
              "Dropout              [12, 39, 39]         0          False     \n",
              "______________________________________________________________________\n",
              "Linear               [39, 768]            590,592    False     \n",
              "______________________________________________________________________\n",
              "LayerNorm            [39, 768]            1,536      False     \n",
              "______________________________________________________________________\n",
              "Dropout              [39, 768]            0          False     \n",
              "______________________________________________________________________\n",
              "Linear               [39, 3072]           2,362,368  False     \n",
              "______________________________________________________________________\n",
              "Linear               [39, 768]            2,360,064  False     \n",
              "______________________________________________________________________\n",
              "LayerNorm            [39, 768]            1,536      False     \n",
              "______________________________________________________________________\n",
              "Dropout              [39, 768]            0          False     \n",
              "______________________________________________________________________\n",
              "Linear               [768]                590,592    True      \n",
              "______________________________________________________________________\n",
              "Tanh                 [768]                0          False     \n",
              "______________________________________________________________________\n",
              "Linear               [768]                590,592    True      \n",
              "______________________________________________________________________\n",
              "Dropout              [768]                0          False     \n",
              "______________________________________________________________________\n",
              "Linear               [4]                  3,076      True      \n",
              "______________________________________________________________________\n",
              "\n",
              "Total params: 82,712,068\n",
              "Total trainable params: 1,184,260\n",
              "Total non-trainable params: 81,527,808\n",
              "Optimized with 'transformers.optimization.AdamW', correct_bias=False\n",
              "Using true weight decay as discussed in https://www.fast.ai/2018/07/02/adam-weight-decay/ \n",
              "Loss function : FlattenedLoss\n",
              "======================================================================\n",
              "Callbacks functions applied \n",
              "    ShowGraph"
            ]
          },
          "metadata": {
            "tags": []
          },
          "execution_count": 33
        }
      ]
    },
    {
      "cell_type": "code",
      "metadata": {
        "id": "CCKWfkYimAHs",
        "colab_type": "code",
        "colab": {
          "base_uri": "https://localhost:8080/",
          "height": 175
        },
        "outputId": "f11c98bc-482c-4599-ac2a-1b50d4a731ed"
      },
      "source": [
        "\n",
        "learner.lr_find()"
      ],
      "execution_count": 34,
      "outputs": [
        {
          "output_type": "display_data",
          "data": {
            "text/html": [
              "\n",
              "    <div>\n",
              "        <style>\n",
              "            /* Turns off some styling */\n",
              "            progress {\n",
              "                /* gets rid of default border in Firefox and Opera. */\n",
              "                border: none;\n",
              "                /* Needs to be in here for Safari polyfill so background images work as expected. */\n",
              "                background-size: auto;\n",
              "            }\n",
              "            .progress-bar-interrupted, .progress-bar-interrupted::-webkit-progress-bar {\n",
              "                background: #F44336;\n",
              "            }\n",
              "        </style>\n",
              "      <progress value='2' class='' max='3' style='width:300px; height:20px; vertical-align: middle;'></progress>\n",
              "      66.67% [2/3 00:01<00:00]\n",
              "    </div>\n",
              "    \n",
              "<table border=\"1\" class=\"dataframe\">\n",
              "  <thead>\n",
              "    <tr style=\"text-align: left;\">\n",
              "      <th>epoch</th>\n",
              "      <th>train_loss</th>\n",
              "      <th>valid_loss</th>\n",
              "      <th>accuracy</th>\n",
              "      <th>error_rate</th>\n",
              "      <th>time</th>\n",
              "    </tr>\n",
              "  </thead>\n",
              "  <tbody>\n",
              "    <tr>\n",
              "      <td>0</td>\n",
              "      <td>1.369063</td>\n",
              "      <td>#na#</td>\n",
              "      <td>00:00</td>\n",
              "    </tr>\n",
              "    <tr>\n",
              "      <td>1</td>\n",
              "      <td>1.585109</td>\n",
              "      <td>#na#</td>\n",
              "      <td>00:00</td>\n",
              "    </tr>\n",
              "  </tbody>\n",
              "</table><p>\n",
              "\n",
              "    <div>\n",
              "        <style>\n",
              "            /* Turns off some styling */\n",
              "            progress {\n",
              "                /* gets rid of default border in Firefox and Opera. */\n",
              "                border: none;\n",
              "                /* Needs to be in here for Safari polyfill so background images work as expected. */\n",
              "                background-size: auto;\n",
              "            }\n",
              "            .progress-bar-interrupted, .progress-bar-interrupted::-webkit-progress-bar {\n",
              "                background: #F44336;\n",
              "            }\n",
              "        </style>\n",
              "      <progress value='4' class='' max='34' style='width:300px; height:20px; vertical-align: middle;'></progress>\n",
              "      11.76% [4/34 00:00<00:01 4.8355]\n",
              "    </div>\n",
              "    "
            ],
            "text/plain": [
              "<IPython.core.display.HTML object>"
            ]
          },
          "metadata": {
            "tags": []
          }
        },
        {
          "output_type": "stream",
          "text": [
            "LR Finder is complete, type {learner_name}.recorder.plot() to see the graph.\n"
          ],
          "name": "stdout"
        }
      ]
    },
    {
      "cell_type": "code",
      "metadata": {
        "id": "afI1E95HmLcw",
        "colab_type": "code",
        "colab": {
          "base_uri": "https://localhost:8080/",
          "height": 314
        },
        "outputId": "6448ed87-120c-42e3-a7c4-5195fd22b7e0"
      },
      "source": [
        "learner.recorder.plot(skip_end=10,suggestion=True)"
      ],
      "execution_count": 35,
      "outputs": [
        {
          "output_type": "stream",
          "text": [
            "Min numerical gradient: 3.31E-04\n",
            "Min loss divided by 10: 1.74E-04\n"
          ],
          "name": "stdout"
        },
        {
          "output_type": "display_data",
          "data": {
            "image/png": "[encoded data removed]",
            "text/plain": [
              "<Figure size 432x288 with 1 Axes>"
            ]
          },
          "metadata": {
            "tags": [],
            "needs_background": "light"
          }
        }
      ]
    },
    {
      "cell_type": "code",
      "metadata": {
        "id": "mopmDATAmbtW",
        "colab_type": "code",
        "colab": {
          "base_uri": "https://localhost:8080/",
          "height": 329
        },
        "outputId": "e360a336-b29c-420d-d274-667a1a93ef85"
      },
      "source": [
        "\n",
        "\n",
        "learner.fit_one_cycle(1,max_lr=2e-03,moms=(0.8,0.7))\n",
        "\n"
      ],
      "execution_count": 36,
      "outputs": [
        {
          "output_type": "display_data",
          "data": {
            "text/html": [
              "<table border=\"1\" class=\"dataframe\">\n",
              "  <thead>\n",
              "    <tr style=\"text-align: left;\">\n",
              "      <th>epoch</th>\n",
              "      <th>train_loss</th>\n",
              "      <th>valid_loss</th>\n",
              "      <th>accuracy</th>\n",
              "      <th>error_rate</th>\n",
              "      <th>time</th>\n",
              "    </tr>\n",
              "  </thead>\n",
              "  <tbody>\n",
              "    <tr>\n",
              "      <td>0</td>\n",
              "      <td>1.494067</td>\n",
              "      <td>0.928069</td>\n",
              "      <td>0.573770</td>\n",
              "      <td>0.426230</td>\n",
              "      <td>00:00</td>\n",
              "    </tr>\n",
              "  </tbody>\n",
              "</table>"
            ],
            "text/plain": [
              "<IPython.core.display.HTML object>"
            ]
          },
          "metadata": {
            "tags": []
          }
        },
        {
          "output_type": "display_data",
          "data": {
            "image/png": "[encoded data removed]",
            "text/plain": [
              "<Figure size 432x288 with 1 Axes>"
            ]
          },
          "metadata": {
            "tags": []
          }
        }
      ]
    },
    {
      "cell_type": "code",
      "metadata": {
        "id": "gDVgtQAVmgd1",
        "colab_type": "code",
        "colab": {}
      },
      "source": [
        "\n",
        "\n",
        "learner.save('first_cycle')\n",
        "\n"
      ],
      "execution_count": 37,
      "outputs": []
    },
    {
      "cell_type": "code",
      "metadata": {
        "id": "b7lZcnQampgJ",
        "colab_type": "code",
        "colab": {}
      },
      "source": [
        "\n",
        "\n",
        "seed_all(seed)\n",
        "learner.load('first_cycle');\n",
        "\n"
      ],
      "execution_count": 38,
      "outputs": []
    },
    {
      "cell_type": "code",
      "metadata": {
        "id": "Iy955ZQjmscl",
        "colab_type": "code",
        "colab": {}
      },
      "source": [
        "learner.freeze_to(-2)"
      ],
      "execution_count": 39,
      "outputs": []
    },
    {
      "cell_type": "code",
      "metadata": {
        "id": "NefhObF6mvz3",
        "colab_type": "code",
        "colab": {}
      },
      "source": [
        "lr = 1e-5"
      ],
      "execution_count": 40,
      "outputs": []
    },
    {
      "cell_type": "code",
      "metadata": {
        "id": "Z_uB4sk-m05-",
        "colab_type": "code",
        "colab": {
          "base_uri": "https://localhost:8080/",
          "height": 329
        },
        "outputId": "8aed19bf-3c67-4a64-837e-2c5bbdfd06fc"
      },
      "source": [
        "learner.fit_one_cycle(1, max_lr=slice(lr*0.95**num_groups, lr), moms=(0.8, 0.9))"
      ],
      "execution_count": 41,
      "outputs": [
        {
          "output_type": "display_data",
          "data": {
            "text/html": [
              "<table border=\"1\" class=\"dataframe\">\n",
              "  <thead>\n",
              "    <tr style=\"text-align: left;\">\n",
              "      <th>epoch</th>\n",
              "      <th>train_loss</th>\n",
              "      <th>valid_loss</th>\n",
              "      <th>accuracy</th>\n",
              "      <th>error_rate</th>\n",
              "      <th>time</th>\n",
              "    </tr>\n",
              "  </thead>\n",
              "  <tbody>\n",
              "    <tr>\n",
              "      <td>0</td>\n",
              "      <td>0.745503</td>\n",
              "      <td>0.770311</td>\n",
              "      <td>0.688525</td>\n",
              "      <td>0.311475</td>\n",
              "      <td>00:01</td>\n",
              "    </tr>\n",
              "  </tbody>\n",
              "</table>"
            ],
            "text/plain": [
              "<IPython.core.display.HTML object>"
            ]
          },
          "metadata": {
            "tags": []
          }
        },
        {
          "output_type": "display_data",
          "data": {
            "image/png": "[encoded data removed]",
            "text/plain": [
              "<Figure size 432x288 with 1 Axes>"
            ]
          },
          "metadata": {
            "tags": []
          }
        }
      ]
    },
    {
      "cell_type": "code",
      "metadata": {
        "id": "765_G362m5JI",
        "colab_type": "code",
        "colab": {}
      },
      "source": [
        "learner.save('second_cycle')"
      ],
      "execution_count": 42,
      "outputs": []
    },
    {
      "cell_type": "code",
      "metadata": {
        "id": "F_IPXRIJnBby",
        "colab_type": "code",
        "colab": {}
      },
      "source": [
        "seed_all(seed)\n",
        "learner.load('second_cycle');"
      ],
      "execution_count": 43,
      "outputs": []
    },
    {
      "cell_type": "code",
      "metadata": {
        "id": "L_ffNo2jnDtV",
        "colab_type": "code",
        "colab": {}
      },
      "source": [
        "learner.freeze_to(-3)"
      ],
      "execution_count": 44,
      "outputs": []
    },
    {
      "cell_type": "code",
      "metadata": {
        "id": "FKZ910-gnG4J",
        "colab_type": "code",
        "colab": {
          "base_uri": "https://localhost:8080/",
          "height": 329
        },
        "outputId": "4a6d5796-18dc-46df-a922-6d57913d15cb"
      },
      "source": [
        "learner.fit_one_cycle(1, max_lr=slice(lr*0.95**num_groups, lr), moms=(0.8, 0.9))"
      ],
      "execution_count": 45,
      "outputs": [
        {
          "output_type": "display_data",
          "data": {
            "text/html": [
              "<table border=\"1\" class=\"dataframe\">\n",
              "  <thead>\n",
              "    <tr style=\"text-align: left;\">\n",
              "      <th>epoch</th>\n",
              "      <th>train_loss</th>\n",
              "      <th>valid_loss</th>\n",
              "      <th>accuracy</th>\n",
              "      <th>error_rate</th>\n",
              "      <th>time</th>\n",
              "    </tr>\n",
              "  </thead>\n",
              "  <tbody>\n",
              "    <tr>\n",
              "      <td>0</td>\n",
              "      <td>0.531897</td>\n",
              "      <td>0.539122</td>\n",
              "      <td>0.737705</td>\n",
              "      <td>0.262295</td>\n",
              "      <td>00:01</td>\n",
              "    </tr>\n",
              "  </tbody>\n",
              "</table>"
            ],
            "text/plain": [
              "<IPython.core.display.HTML object>"
            ]
          },
          "metadata": {
            "tags": []
          }
        },
        {
          "output_type": "display_data",
          "data": {
            "image/png": "[encoded data removed]",
            "text/plain": [
              "<Figure size 432x288 with 1 Axes>"
            ]
          },
          "metadata": {
            "tags": []
          }
        }
      ]
    },
    {
      "cell_type": "code",
      "metadata": {
        "id": "jE5npRBcnMA1",
        "colab_type": "code",
        "colab": {}
      },
      "source": [
        "learner.unfreeze()"
      ],
      "execution_count": 46,
      "outputs": []
    },
    {
      "cell_type": "code",
      "metadata": {
        "id": "sCBfJUtJnUUA",
        "colab_type": "code",
        "colab": {
          "base_uri": "https://localhost:8080/",
          "height": 360
        },
        "outputId": "f003af8b-997a-407c-c336-4beca348a0b6"
      },
      "source": [
        "learner.fit_one_cycle(2, max_lr=slice(lr*0.95**num_groups, lr), moms=(0.8, 0.9))"
      ],
      "execution_count": 47,
      "outputs": [
        {
          "output_type": "display_data",
          "data": {
            "text/html": [
              "<table border=\"1\" class=\"dataframe\">\n",
              "  <thead>\n",
              "    <tr style=\"text-align: left;\">\n",
              "      <th>epoch</th>\n",
              "      <th>train_loss</th>\n",
              "      <th>valid_loss</th>\n",
              "      <th>accuracy</th>\n",
              "      <th>error_rate</th>\n",
              "      <th>time</th>\n",
              "    </tr>\n",
              "  </thead>\n",
              "  <tbody>\n",
              "    <tr>\n",
              "      <td>0</td>\n",
              "      <td>0.460406</td>\n",
              "      <td>0.383030</td>\n",
              "      <td>0.852459</td>\n",
              "      <td>0.147541</td>\n",
              "      <td>00:03</td>\n",
              "    </tr>\n",
              "    <tr>\n",
              "      <td>1</td>\n",
              "      <td>0.320400</td>\n",
              "      <td>0.353569</td>\n",
              "      <td>0.803279</td>\n",
              "      <td>0.196721</td>\n",
              "      <td>00:03</td>\n",
              "    </tr>\n",
              "  </tbody>\n",
              "</table>"
            ],
            "text/plain": [
              "<IPython.core.display.HTML object>"
            ]
          },
          "metadata": {
            "tags": []
          }
        },
        {
          "output_type": "display_data",
          "data": {
            "image/png": "[encoded data removed]",
            "text/plain": [
              "<Figure size 432x288 with 1 Axes>"
            ]
          },
          "metadata": {
            "tags": []
          }
        }
      ]
    },
    {
      "cell_type": "code",
      "metadata": {
        "id": "dG1m0rdAnXp4",
        "colab_type": "code",
        "colab": {
          "base_uri": "https://localhost:8080/",
          "height": 17
        },
        "outputId": "17e2a219-e2c5-4d25-d06d-515a408a48ec"
      },
      "source": [
        "def get_preds_as_nparray(ds_type) -> np.ndarray:\n",
        "    \"\"\"\n",
        "    the get_preds method does not yield the elements in order by default\n",
        "    we borrow the code from the RNNLearner to resort the elements into their correct order\n",
        "    \"\"\"\n",
        "    preds = learner.get_preds(ds_type)[0].detach().cpu().numpy()\n",
        "    sampler = [i for i in databunch.dl(ds_type).sampler]\n",
        "    reverse_sampler = np.argsort(sampler)\n",
        "    ordered_preds = preds[reverse_sampler, :]\n",
        "    pred_values = np.argmax(ordered_preds, axis=1)\n",
        "    return ordered_preds, pred_values# For Valid\n",
        "\n",
        "preds, pred_values = get_preds_as_nparray(DatasetType.Test)"
      ],
      "execution_count": 48,
      "outputs": [
        {
          "output_type": "display_data",
          "data": {
            "text/html": [
              ""
            ],
            "text/plain": [
              "<IPython.core.display.HTML object>"
            ]
          },
          "metadata": {
            "tags": []
          }
        }
      ]
    },
    {
      "cell_type": "code",
      "metadata": {
        "id": "Sbu4XycTqV9V",
        "colab_type": "code",
        "colab": {
          "base_uri": "https://localhost:8080/",
          "height": 206
        },
        "outputId": "4ac8f6da-16d2-49f3-dcf8-47fb335339e8"
      },
      "source": [
        "sub=pd.read_csv('/content/drive/My Drive/Zindi/SampleSubmission.csv')\n",
        "sub.head()"
      ],
      "execution_count": 49,
      "outputs": [
        {
          "output_type": "execute_result",
          "data": {
            "text/html": [
              "<div>\n",
              "<style scoped>\n",
              "    .dataframe tbody tr th:only-of-type {\n",
              "        vertical-align: middle;\n",
              "    }\n",
              "\n",
              "    .dataframe tbody tr th {\n",
              "        vertical-align: top;\n",
              "    }\n",
              "\n",
              "    .dataframe thead th {\n",
              "        text-align: right;\n",
              "    }\n",
              "</style>\n",
              "<table border=\"1\" class=\"dataframe\">\n",
              "  <thead>\n",
              "    <tr style=\"text-align: right;\">\n",
              "      <th></th>\n",
              "      <th>ID</th>\n",
              "      <th>Depression</th>\n",
              "      <th>Alcohol</th>\n",
              "      <th>Suicide</th>\n",
              "      <th>Drugs</th>\n",
              "    </tr>\n",
              "  </thead>\n",
              "  <tbody>\n",
              "    <tr>\n",
              "      <th>0</th>\n",
              "      <td>02V56KMO</td>\n",
              "      <td>0</td>\n",
              "      <td>0</td>\n",
              "      <td>0</td>\n",
              "      <td>0</td>\n",
              "    </tr>\n",
              "    <tr>\n",
              "      <th>1</th>\n",
              "      <td>03BMGTOK</td>\n",
              "      <td>0</td>\n",
              "      <td>0</td>\n",
              "      <td>0</td>\n",
              "      <td>0</td>\n",
              "    </tr>\n",
              "    <tr>\n",
              "      <th>2</th>\n",
              "      <td>03LZVFM6</td>\n",
              "      <td>0</td>\n",
              "      <td>0</td>\n",
              "      <td>0</td>\n",
              "      <td>0</td>\n",
              "    </tr>\n",
              "    <tr>\n",
              "      <th>3</th>\n",
              "      <td>0EPULUM5</td>\n",
              "      <td>0</td>\n",
              "      <td>0</td>\n",
              "      <td>0</td>\n",
              "      <td>0</td>\n",
              "    </tr>\n",
              "    <tr>\n",
              "      <th>4</th>\n",
              "      <td>0GM4C5GD</td>\n",
              "      <td>0</td>\n",
              "      <td>0</td>\n",
              "      <td>0</td>\n",
              "      <td>0</td>\n",
              "    </tr>\n",
              "  </tbody>\n",
              "</table>\n",
              "</div>"
            ],
            "text/plain": [
              "         ID  Depression  Alcohol  Suicide  Drugs\n",
              "0  02V56KMO           0        0        0      0\n",
              "1  03BMGTOK           0        0        0      0\n",
              "2  03LZVFM6           0        0        0      0\n",
              "3  0EPULUM5           0        0        0      0\n",
              "4  0GM4C5GD           0        0        0      0"
            ]
          },
          "metadata": {
            "tags": []
          },
          "execution_count": 49
        }
      ]
    },
    {
      "cell_type": "code",
      "metadata": {
        "id": "Q7fsb5zeryFd",
        "colab_type": "code",
        "colab": {}
      },
      "source": [
        "sub['Depression']=preds[:,0]\n",
        "sub['Alcohol']=preds[:,3]\n",
        "sub['Suicide']=preds[:,2]\n",
        "sub['Drugs']=preds[:,1]"
      ],
      "execution_count": 50,
      "outputs": []
    },
    {
      "cell_type": "code",
      "metadata": {
        "id": "bvfhqxvVsmfV",
        "colab_type": "code",
        "colab": {
          "base_uri": "https://localhost:8080/",
          "height": 206
        },
        "outputId": "cf8fa4a7-df09-404f-95a8-67b9e19e622b"
      },
      "source": [
        "sub.head()"
      ],
      "execution_count": 51,
      "outputs": [
        {
          "output_type": "execute_result",
          "data": {
            "text/html": [
              "<div>\n",
              "<style scoped>\n",
              "    .dataframe tbody tr th:only-of-type {\n",
              "        vertical-align: middle;\n",
              "    }\n",
              "\n",
              "    .dataframe tbody tr th {\n",
              "        vertical-align: top;\n",
              "    }\n",
              "\n",
              "    .dataframe thead th {\n",
              "        text-align: right;\n",
              "    }\n",
              "</style>\n",
              "<table border=\"1\" class=\"dataframe\">\n",
              "  <thead>\n",
              "    <tr style=\"text-align: right;\">\n",
              "      <th></th>\n",
              "      <th>ID</th>\n",
              "      <th>Depression</th>\n",
              "      <th>Alcohol</th>\n",
              "      <th>Suicide</th>\n",
              "      <th>Drugs</th>\n",
              "    </tr>\n",
              "  </thead>\n",
              "  <tbody>\n",
              "    <tr>\n",
              "      <th>0</th>\n",
              "      <td>02V56KMO</td>\n",
              "      <td>0.206901</td>\n",
              "      <td>0.281600</td>\n",
              "      <td>0.336705</td>\n",
              "      <td>0.174795</td>\n",
              "    </tr>\n",
              "    <tr>\n",
              "      <th>1</th>\n",
              "      <td>03BMGTOK</td>\n",
              "      <td>0.868516</td>\n",
              "      <td>0.010404</td>\n",
              "      <td>0.116335</td>\n",
              "      <td>0.004744</td>\n",
              "    </tr>\n",
              "    <tr>\n",
              "      <th>2</th>\n",
              "      <td>03LZVFM6</td>\n",
              "      <td>0.995285</td>\n",
              "      <td>0.000018</td>\n",
              "      <td>0.004688</td>\n",
              "      <td>0.000008</td>\n",
              "    </tr>\n",
              "    <tr>\n",
              "      <th>3</th>\n",
              "      <td>0EPULUM5</td>\n",
              "      <td>0.980685</td>\n",
              "      <td>0.000502</td>\n",
              "      <td>0.018590</td>\n",
              "      <td>0.000223</td>\n",
              "    </tr>\n",
              "    <tr>\n",
              "      <th>4</th>\n",
              "      <td>0GM4C5GD</td>\n",
              "      <td>0.020496</td>\n",
              "      <td>0.395799</td>\n",
              "      <td>0.167272</td>\n",
              "      <td>0.416432</td>\n",
              "    </tr>\n",
              "  </tbody>\n",
              "</table>\n",
              "</div>"
            ],
            "text/plain": [
              "         ID  Depression   Alcohol   Suicide     Drugs\n",
              "0  02V56KMO    0.206901  0.281600  0.336705  0.174795\n",
              "1  03BMGTOK    0.868516  0.010404  0.116335  0.004744\n",
              "2  03LZVFM6    0.995285  0.000018  0.004688  0.000008\n",
              "3  0EPULUM5    0.980685  0.000502  0.018590  0.000223\n",
              "4  0GM4C5GD    0.020496  0.395799  0.167272  0.416432"
            ]
          },
          "metadata": {
            "tags": []
          },
          "execution_count": 51
        }
      ]
    },
    {
      "cell_type": "code",
      "metadata": {
        "id": "xZKwBT1IsosI",
        "colab_type": "code",
        "colab": {}
      },
      "source": [
        "sub.to_csv('file.csv',index=False)"
      ],
      "execution_count": 52,
      "outputs": []
    },
    {
      "cell_type": "code",
      "metadata": {
        "id": "-a_6HThqsxLP",
        "colab_type": "code",
        "colab": {
          "base_uri": "https://localhost:8080/",
          "height": 424
        },
        "outputId": "da8a28f3-7023-4c3c-d2ae-7c6098d97547"
      },
      "source": [
        "test_set"
      ],
      "execution_count": 53,
      "outputs": [
        {
          "output_type": "execute_result",
          "data": {
            "text/html": [
              "<div>\n",
              "<style scoped>\n",
              "    .dataframe tbody tr th:only-of-type {\n",
              "        vertical-align: middle;\n",
              "    }\n",
              "\n",
              "    .dataframe tbody tr th {\n",
              "        vertical-align: top;\n",
              "    }\n",
              "\n",
              "    .dataframe thead th {\n",
              "        text-align: right;\n",
              "    }\n",
              "</style>\n",
              "<table border=\"1\" class=\"dataframe\">\n",
              "  <thead>\n",
              "    <tr style=\"text-align: right;\">\n",
              "      <th></th>\n",
              "      <th>ID</th>\n",
              "      <th>text</th>\n",
              "    </tr>\n",
              "  </thead>\n",
              "  <tbody>\n",
              "    <tr>\n",
              "      <th>0</th>\n",
              "      <td>02V56KMO</td>\n",
              "      <td>How to overcome bad feelings and emotions</td>\n",
              "    </tr>\n",
              "    <tr>\n",
              "      <th>1</th>\n",
              "      <td>03BMGTOK</td>\n",
              "      <td>I feel like giving up in life</td>\n",
              "    </tr>\n",
              "    <tr>\n",
              "      <th>2</th>\n",
              "      <td>03LZVFM6</td>\n",
              "      <td>I was so depressed feel like got no strength t...</td>\n",
              "    </tr>\n",
              "    <tr>\n",
              "      <th>3</th>\n",
              "      <td>0EPULUM5</td>\n",
              "      <td>I feel so low especially since I had no one to...</td>\n",
              "    </tr>\n",
              "    <tr>\n",
              "      <th>4</th>\n",
              "      <td>0GM4C5GD</td>\n",
              "      <td>can i be successful when I am a drug addict?</td>\n",
              "    </tr>\n",
              "    <tr>\n",
              "      <th>...</th>\n",
              "      <td>...</td>\n",
              "      <td>...</td>\n",
              "    </tr>\n",
              "    <tr>\n",
              "      <th>304</th>\n",
              "      <td>Z9A6ACLK</td>\n",
              "      <td>Yes</td>\n",
              "    </tr>\n",
              "    <tr>\n",
              "      <th>305</th>\n",
              "      <td>ZDUOIGKN</td>\n",
              "      <td>My girlfriend dumped me</td>\n",
              "    </tr>\n",
              "    <tr>\n",
              "      <th>306</th>\n",
              "      <td>ZHQ60CCH</td>\n",
              "      <td>How can I go back to being my old self?</td>\n",
              "    </tr>\n",
              "    <tr>\n",
              "      <th>307</th>\n",
              "      <td>ZVIJMA4O</td>\n",
              "      <td>Is it true bhang is  medicinal?</td>\n",
              "    </tr>\n",
              "    <tr>\n",
              "      <th>308</th>\n",
              "      <td>ZYIFAY98</td>\n",
              "      <td>how can I overcome the problem?</td>\n",
              "    </tr>\n",
              "  </tbody>\n",
              "</table>\n",
              "<p>309 rows × 2 columns</p>\n",
              "</div>"
            ],
            "text/plain": [
              "           ID                                               text\n",
              "0    02V56KMO          How to overcome bad feelings and emotions\n",
              "1    03BMGTOK                     I feel like giving up in life \n",
              "2    03LZVFM6  I was so depressed feel like got no strength t...\n",
              "3    0EPULUM5  I feel so low especially since I had no one to...\n",
              "4    0GM4C5GD       can i be successful when I am a drug addict?\n",
              "..        ...                                                ...\n",
              "304  Z9A6ACLK                                                Yes\n",
              "305  ZDUOIGKN                            My girlfriend dumped me\n",
              "306  ZHQ60CCH            How can I go back to being my old self?\n",
              "307  ZVIJMA4O                    Is it true bhang is  medicinal?\n",
              "308  ZYIFAY98                    how can I overcome the problem?\n",
              "\n",
              "[309 rows x 2 columns]"
            ]
          },
          "metadata": {
            "tags": []
          },
          "execution_count": 53
        }
      ]
    },
    {
      "cell_type": "code",
      "metadata": {
        "id": "xWoxUCIzw7ox",
        "colab_type": "code",
        "colab": {
          "base_uri": "https://localhost:8080/",
          "height": 424
        },
        "outputId": "2637f94e-049f-4dbe-94d5-d829ba4ee1d9"
      },
      "source": [
        "sub"
      ],
      "execution_count": 54,
      "outputs": [
        {
          "output_type": "execute_result",
          "data": {
            "text/html": [
              "<div>\n",
              "<style scoped>\n",
              "    .dataframe tbody tr th:only-of-type {\n",
              "        vertical-align: middle;\n",
              "    }\n",
              "\n",
              "    .dataframe tbody tr th {\n",
              "        vertical-align: top;\n",
              "    }\n",
              "\n",
              "    .dataframe thead th {\n",
              "        text-align: right;\n",
              "    }\n",
              "</style>\n",
              "<table border=\"1\" class=\"dataframe\">\n",
              "  <thead>\n",
              "    <tr style=\"text-align: right;\">\n",
              "      <th></th>\n",
              "      <th>ID</th>\n",
              "      <th>Depression</th>\n",
              "      <th>Alcohol</th>\n",
              "      <th>Suicide</th>\n",
              "      <th>Drugs</th>\n",
              "    </tr>\n",
              "  </thead>\n",
              "  <tbody>\n",
              "    <tr>\n",
              "      <th>0</th>\n",
              "      <td>02V56KMO</td>\n",
              "      <td>0.206901</td>\n",
              "      <td>0.281600</td>\n",
              "      <td>0.336705</td>\n",
              "      <td>0.174795</td>\n",
              "    </tr>\n",
              "    <tr>\n",
              "      <th>1</th>\n",
              "      <td>03BMGTOK</td>\n",
              "      <td>0.868516</td>\n",
              "      <td>0.010404</td>\n",
              "      <td>0.116335</td>\n",
              "      <td>0.004744</td>\n",
              "    </tr>\n",
              "    <tr>\n",
              "      <th>2</th>\n",
              "      <td>03LZVFM6</td>\n",
              "      <td>0.995285</td>\n",
              "      <td>0.000018</td>\n",
              "      <td>0.004688</td>\n",
              "      <td>0.000008</td>\n",
              "    </tr>\n",
              "    <tr>\n",
              "      <th>3</th>\n",
              "      <td>0EPULUM5</td>\n",
              "      <td>0.980685</td>\n",
              "      <td>0.000502</td>\n",
              "      <td>0.018590</td>\n",
              "      <td>0.000223</td>\n",
              "    </tr>\n",
              "    <tr>\n",
              "      <th>4</th>\n",
              "      <td>0GM4C5GD</td>\n",
              "      <td>0.020496</td>\n",
              "      <td>0.395799</td>\n",
              "      <td>0.167272</td>\n",
              "      <td>0.416432</td>\n",
              "    </tr>\n",
              "    <tr>\n",
              "      <th>...</th>\n",
              "      <td>...</td>\n",
              "      <td>...</td>\n",
              "      <td>...</td>\n",
              "      <td>...</td>\n",
              "      <td>...</td>\n",
              "    </tr>\n",
              "    <tr>\n",
              "      <th>304</th>\n",
              "      <td>Z9A6ACLK</td>\n",
              "      <td>0.708172</td>\n",
              "      <td>0.027899</td>\n",
              "      <td>0.240736</td>\n",
              "      <td>0.023192</td>\n",
              "    </tr>\n",
              "    <tr>\n",
              "      <th>305</th>\n",
              "      <td>ZDUOIGKN</td>\n",
              "      <td>0.774820</td>\n",
              "      <td>0.008154</td>\n",
              "      <td>0.213115</td>\n",
              "      <td>0.003911</td>\n",
              "    </tr>\n",
              "    <tr>\n",
              "      <th>306</th>\n",
              "      <td>ZHQ60CCH</td>\n",
              "      <td>0.344412</td>\n",
              "      <td>0.076463</td>\n",
              "      <td>0.487915</td>\n",
              "      <td>0.091210</td>\n",
              "    </tr>\n",
              "    <tr>\n",
              "      <th>307</th>\n",
              "      <td>ZVIJMA4O</td>\n",
              "      <td>0.000004</td>\n",
              "      <td>0.060565</td>\n",
              "      <td>0.006668</td>\n",
              "      <td>0.932763</td>\n",
              "    </tr>\n",
              "    <tr>\n",
              "      <th>308</th>\n",
              "      <td>ZYIFAY98</td>\n",
              "      <td>0.232408</td>\n",
              "      <td>0.185154</td>\n",
              "      <td>0.434347</td>\n",
              "      <td>0.148091</td>\n",
              "    </tr>\n",
              "  </tbody>\n",
              "</table>\n",
              "<p>309 rows × 5 columns</p>\n",
              "</div>"
            ],
            "text/plain": [
              "           ID  Depression   Alcohol   Suicide     Drugs\n",
              "0    02V56KMO    0.206901  0.281600  0.336705  0.174795\n",
              "1    03BMGTOK    0.868516  0.010404  0.116335  0.004744\n",
              "2    03LZVFM6    0.995285  0.000018  0.004688  0.000008\n",
              "3    0EPULUM5    0.980685  0.000502  0.018590  0.000223\n",
              "4    0GM4C5GD    0.020496  0.395799  0.167272  0.416432\n",
              "..        ...         ...       ...       ...       ...\n",
              "304  Z9A6ACLK    0.708172  0.027899  0.240736  0.023192\n",
              "305  ZDUOIGKN    0.774820  0.008154  0.213115  0.003911\n",
              "306  ZHQ60CCH    0.344412  0.076463  0.487915  0.091210\n",
              "307  ZVIJMA4O    0.000004  0.060565  0.006668  0.932763\n",
              "308  ZYIFAY98    0.232408  0.185154  0.434347  0.148091\n",
              "\n",
              "[309 rows x 5 columns]"
            ]
          },
          "metadata": {
            "tags": []
          },
          "execution_count": 54
        }
      ]
    },
    {
      "cell_type": "code",
      "metadata": {
        "id": "rQal7DxG929w",
        "colab_type": "code",
        "colab": {}
      },
      "source": [
        ""
      ],
      "execution_count": 54,
      "outputs": []
    }
  ]
}